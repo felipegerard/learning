{
 "cells": [
  {
   "cell_type": "markdown",
   "metadata": {
    "colab_type": "text",
    "id": "kR-4eNdK6lYS"
   },
   "source": [
    "Deep Learning\n",
    "=============\n",
    "\n",
    "Assignment 3\n",
    "------------\n",
    "\n",
    "Previously in `2_fullyconnected.ipynb`, you trained a logistic regression and a neural network model.\n",
    "\n",
    "The goal of this assignment is to explore regularization techniques."
   ]
  },
  {
   "cell_type": "code",
   "execution_count": 1,
   "metadata": {
    "cellView": "both",
    "colab": {
     "autoexec": {
      "startup": false,
      "wait_interval": 0
     }
    },
    "colab_type": "code",
    "collapsed": true,
    "id": "JLpLa8Jt7Vu4"
   },
   "outputs": [],
   "source": [
    "# These are all the modules we'll be using later. Make sure you can import them\n",
    "# before proceeding further.\n",
    "from __future__ import print_function\n",
    "import numpy as np\n",
    "import tensorflow as tf\n",
    "from six.moves import cPickle as pickle"
   ]
  },
  {
   "cell_type": "markdown",
   "metadata": {
    "colab_type": "text",
    "id": "1HrCK6e17WzV"
   },
   "source": [
    "First reload the data we generated in _notmist.ipynb_."
   ]
  },
  {
   "cell_type": "code",
   "execution_count": 2,
   "metadata": {
    "cellView": "both",
    "colab": {
     "autoexec": {
      "startup": false,
      "wait_interval": 0
     },
     "output_extras": [
      {
       "item_id": 1
      }
     ]
    },
    "colab_type": "code",
    "collapsed": false,
    "executionInfo": {
     "elapsed": 11777,
     "status": "ok",
     "timestamp": 1449849322348,
     "user": {
      "color": "",
      "displayName": "",
      "isAnonymous": false,
      "isMe": true,
      "permissionId": "",
      "photoUrl": "",
      "sessionId": "0",
      "userId": ""
     },
     "user_tz": 480
    },
    "id": "y3-cj1bpmuxc",
    "outputId": "e03576f1-ebbe-4838-c388-f1777bcc9873"
   },
   "outputs": [
    {
     "name": "stdout",
     "output_type": "stream",
     "text": [
      "Training set (50000, 28, 28) (50000,)\n",
      "Validation set (2500, 28, 28) (2500,)\n",
      "Test set (2500, 28, 28) (2500,)\n"
     ]
    }
   ],
   "source": [
    "pickle_file = 'notMNIST.pickle'\n",
    "\n",
    "with open(pickle_file, 'rb') as f:\n",
    "  save = pickle.load(f)\n",
    "  train_dataset = save['train_dataset']\n",
    "  train_labels = save['train_labels']\n",
    "  valid_dataset = save['valid_dataset']\n",
    "  valid_labels = save['valid_labels']\n",
    "  test_dataset = save['test_dataset']\n",
    "  test_labels = save['test_labels']\n",
    "  del save  # hint to help gc free up memory\n",
    "  print('Training set', train_dataset.shape, train_labels.shape)\n",
    "  print('Validation set', valid_dataset.shape, valid_labels.shape)\n",
    "  print('Test set', test_dataset.shape, test_labels.shape)"
   ]
  },
  {
   "cell_type": "markdown",
   "metadata": {
    "colab_type": "text",
    "id": "L7aHrm6nGDMB"
   },
   "source": [
    "Reformat into a shape that's more adapted to the models we're going to train:\n",
    "- data as a flat matrix,\n",
    "- labels as float 1-hot encodings."
   ]
  },
  {
   "cell_type": "code",
   "execution_count": 3,
   "metadata": {
    "cellView": "both",
    "colab": {
     "autoexec": {
      "startup": false,
      "wait_interval": 0
     },
     "output_extras": [
      {
       "item_id": 1
      }
     ]
    },
    "colab_type": "code",
    "collapsed": false,
    "executionInfo": {
     "elapsed": 11728,
     "status": "ok",
     "timestamp": 1449849322356,
     "user": {
      "color": "",
      "displayName": "",
      "isAnonymous": false,
      "isMe": true,
      "permissionId": "",
      "photoUrl": "",
      "sessionId": "0",
      "userId": ""
     },
     "user_tz": 480
    },
    "id": "IRSyYiIIGIzS",
    "outputId": "3f8996ee-3574-4f44-c953-5c8a04636582"
   },
   "outputs": [
    {
     "name": "stdout",
     "output_type": "stream",
     "text": [
      "Training set (50000, 784) (50000, 10)\n",
      "Validation set (2500, 784) (2500, 10)\n",
      "Test set (2500, 784) (2500, 10)\n"
     ]
    }
   ],
   "source": [
    "image_size = 28\n",
    "num_labels = 10\n",
    "\n",
    "def reformat(dataset, labels):\n",
    "  dataset = dataset.reshape((-1, image_size * image_size)).astype(np.float32)\n",
    "  # Map 2 to [0.0, 1.0, 0.0 ...], 3 to [0.0, 0.0, 1.0 ...]\n",
    "  labels = (np.arange(num_labels) == labels[:,None]).astype(np.float32)\n",
    "  return dataset, labels\n",
    "train_dataset, train_labels = reformat(train_dataset, train_labels)\n",
    "valid_dataset, valid_labels = reformat(valid_dataset, valid_labels)\n",
    "test_dataset, test_labels = reformat(test_dataset, test_labels)\n",
    "print('Training set', train_dataset.shape, train_labels.shape)\n",
    "print('Validation set', valid_dataset.shape, valid_labels.shape)\n",
    "print('Test set', test_dataset.shape, test_labels.shape)"
   ]
  },
  {
   "cell_type": "code",
   "execution_count": 4,
   "metadata": {
    "cellView": "both",
    "colab": {
     "autoexec": {
      "startup": false,
      "wait_interval": 0
     }
    },
    "colab_type": "code",
    "collapsed": true,
    "id": "RajPLaL_ZW6w"
   },
   "outputs": [],
   "source": [
    "def accuracy(predictions, labels):\n",
    "  return (100.0 * np.sum(np.argmax(predictions, 1) == np.argmax(labels, 1))\n",
    "          / predictions.shape[0])"
   ]
  },
  {
   "cell_type": "markdown",
   "metadata": {
    "colab_type": "text",
    "id": "sgLbUAQ1CW-1"
   },
   "source": [
    "---\n",
    "Problem 1\n",
    "---------\n",
    "\n",
    "Introduce and tune L2 regularization for both logistic and neural network models. Remember that L2 amounts to adding a penalty on the norm of the weights to the loss. In TensorFlow, you can compute the L2 loss for a tensor `t` using `nn.l2_loss(t)`. The right amount of regularization should improve your validation / test accuracy.\n",
    "\n",
    "---"
   ]
  },
  {
   "cell_type": "markdown",
   "metadata": {},
   "source": [
    "#### L2 Regularized Logistic Regression"
   ]
  },
  {
   "cell_type": "markdown",
   "metadata": {},
   "source": [
    "Define graph"
   ]
  },
  {
   "cell_type": "code",
   "execution_count": 5,
   "metadata": {
    "collapsed": false
   },
   "outputs": [],
   "source": [
    "batch_size = 128\n",
    "regularization = 0.001\n",
    "\n",
    "graph = tf.Graph()\n",
    "with graph.as_default():\n",
    "\n",
    "  # Input data. For the training data, we use a placeholder that will be fed\n",
    "  # at run time with a training minibatch.\n",
    "  tf_train_dataset = tf.placeholder(tf.float32,\n",
    "                                    shape=(batch_size, image_size * image_size))\n",
    "  tf_train_labels = tf.placeholder(tf.float32, shape=(batch_size, num_labels))\n",
    "  tf_valid_dataset = tf.constant(valid_dataset)\n",
    "  tf_test_dataset = tf.constant(test_dataset)\n",
    "  \n",
    "  # Variables.\n",
    "  weights = tf.Variable(\n",
    "    tf.truncated_normal([image_size * image_size, num_labels]))\n",
    "  biases = tf.Variable(tf.zeros([num_labels]))\n",
    "  \n",
    "  # Training computation.\n",
    "  logits = tf.matmul(tf_train_dataset, weights) + biases\n",
    "  loss = tf.reduce_mean(\n",
    "    tf.nn.softmax_cross_entropy_with_logits(logits, tf_train_labels)) +\\\n",
    "    regularization/2*tf.nn.l2_loss(weights)\n",
    "    \n",
    "  # Optimizer.\n",
    "  optimizer = tf.train.GradientDescentOptimizer(0.5).minimize(loss)\n",
    "  \n",
    "  # Predictions for the training, validation, and test data.\n",
    "  train_prediction = tf.nn.softmax(logits)\n",
    "  valid_prediction = tf.nn.softmax(\n",
    "    tf.matmul(tf_valid_dataset, weights) + biases)\n",
    "  test_prediction = tf.nn.softmax(tf.matmul(tf_test_dataset, weights) + biases)"
   ]
  },
  {
   "cell_type": "markdown",
   "metadata": {},
   "source": [
    "Fit model"
   ]
  },
  {
   "cell_type": "code",
   "execution_count": 6,
   "metadata": {
    "collapsed": false
   },
   "outputs": [
    {
     "name": "stdout",
     "output_type": "stream",
     "text": [
      "Initialized\n",
      "Minibatch loss at step 0: 15.871655\n",
      "Minibatch accuracy: 13.3%\n",
      "Validation accuracy: 17.0%\n",
      "Minibatch loss at step 500: 2.403866\n",
      "Minibatch accuracy: 75.8%\n",
      "Validation accuracy: 77.2%\n",
      "Minibatch loss at step 1000: 1.761634\n",
      "Minibatch accuracy: 80.5%\n",
      "Validation accuracy: 77.2%\n",
      "Minibatch loss at step 1500: 1.316510\n",
      "Minibatch accuracy: 78.9%\n",
      "Validation accuracy: 78.6%\n",
      "Minibatch loss at step 2000: 1.114374\n",
      "Minibatch accuracy: 78.9%\n",
      "Validation accuracy: 79.8%\n",
      "Minibatch loss at step 2500: 0.890684\n",
      "Minibatch accuracy: 82.8%\n",
      "Validation accuracy: 80.3%\n",
      "Minibatch loss at step 3000: 0.699390\n",
      "Minibatch accuracy: 83.6%\n",
      "Validation accuracy: 80.5%\n",
      "Test accuracy: 88.7%\n"
     ]
    }
   ],
   "source": [
    "num_steps = 3001\n",
    "\n",
    "with tf.Session(graph=graph) as session:\n",
    "  tf.initialize_all_variables().run()\n",
    "  print(\"Initialized\")\n",
    "  for step in range(num_steps):\n",
    "    # Pick an offset within the training data, which has been randomized.\n",
    "    # Note: we could use better randomization across epochs.\n",
    "    offset = (step * batch_size) % (train_labels.shape[0] - batch_size)\n",
    "    # Generate a minibatch.\n",
    "    batch_data = train_dataset[offset:(offset + batch_size), :]\n",
    "    batch_labels = train_labels[offset:(offset + batch_size), :]\n",
    "    # Prepare a dictionary telling the session where to feed the minibatch.\n",
    "    # The key of the dictionary is the placeholder node of the graph to be fed,\n",
    "    # and the value is the numpy array to feed to it.\n",
    "    feed_dict = {tf_train_dataset : batch_data, tf_train_labels : batch_labels}\n",
    "    _, l, predictions = session.run(\n",
    "      [optimizer, loss, train_prediction], feed_dict=feed_dict)\n",
    "    if (step % 500 == 0):\n",
    "      print(\"Minibatch loss at step %d: %f\" % (step, l))\n",
    "      print(\"Minibatch accuracy: %.1f%%\" % accuracy(predictions, batch_labels))\n",
    "      print(\"Validation accuracy: %.1f%%\" % accuracy(\n",
    "        valid_prediction.eval(), valid_labels))\n",
    "  print(\"Test accuracy: %.1f%%\" % accuracy(test_prediction.eval(), test_labels))"
   ]
  },
  {
   "cell_type": "markdown",
   "metadata": {},
   "source": [
    "#### Regularized Neural Network"
   ]
  },
  {
   "cell_type": "markdown",
   "metadata": {},
   "source": [
    "Define graph"
   ]
  },
  {
   "cell_type": "code",
   "execution_count": 7,
   "metadata": {
    "collapsed": true
   },
   "outputs": [],
   "source": [
    "batch_size = 128\n",
    "num_hidden_units = 1024\n",
    "regularization = 0.01\n",
    "\n",
    "graph = tf.Graph()\n",
    "with graph.as_default():\n",
    "\n",
    "  # Input data. For the training data, we use a placeholder that will be fed\n",
    "  # at run time with a training minibatch.\n",
    "  tf_train_dataset = tf.placeholder(tf.float32,\n",
    "                                    shape=(batch_size, image_size * image_size))\n",
    "  tf_train_labels = tf.placeholder(tf.float32, shape=(batch_size, num_labels))\n",
    "  tf_valid_dataset = tf.constant(valid_dataset)\n",
    "  tf_test_dataset = tf.constant(test_dataset)\n",
    "  \n",
    "  # Variables of input layer\n",
    "  weights_input = tf.Variable(\n",
    "    tf.truncated_normal([image_size * image_size, num_hidden_units]))\n",
    "  biases_input = tf.Variable(tf.zeros([num_hidden_units]))\n",
    "    \n",
    "  # Variables.\n",
    "  weights_hidden = tf.Variable(\n",
    "    tf.truncated_normal([num_hidden_units, num_labels]))\n",
    "  biases_hidden = tf.Variable(tf.zeros([num_labels]))\n",
    "  \n",
    "  # Training computation.\n",
    "  relus = tf.nn.relu(tf.matmul(tf_train_dataset, weights_input) + biases_input)\n",
    "  logits_hidden = tf.matmul(relus, weights_hidden) + biases_hidden\n",
    "  loss = tf.reduce_mean(c\n",
    "    tf.nn.softmax_cross_entropy_with_logits(logits_hidden, tf_train_labels)) +\\\n",
    "    0.5*regularization*(tf.nn.l2_loss(weights_input) + tf.nn.l2_loss(weights_hidden))\n",
    "  \n",
    "  # Optimizer.\n",
    "  optimizer = tf.train.GradientDescentOptimizer(0.5).minimize(loss)\n",
    "  \n",
    "  # Predictions for the training, validation, and test data.\n",
    "  train_prediction = tf.nn.softmax(logits_hidden)\n",
    "  valid_relus = tf.nn.relu(tf.matmul(tf_valid_dataset, weights_input) + biases_input)\n",
    "  valid_prediction = tf.nn.softmax(\n",
    "    tf.matmul(valid_relus, weights_hidden) + biases_hidden)\n",
    "  test_relus = tf.nn.relu(tf.matmul(tf_test_dataset, weights_input) + biases_input)\n",
    "  test_prediction = tf.nn.softmax(\n",
    "    tf.matmul(test_relus, weights_hidden) + biases_hidden)"
   ]
  },
  {
   "cell_type": "markdown",
   "metadata": {},
   "source": [
    "Fit model"
   ]
  },
  {
   "cell_type": "code",
   "execution_count": 8,
   "metadata": {
    "collapsed": false
   },
   "outputs": [
    {
     "name": "stdout",
     "output_type": "stream",
     "text": [
      "Initialized\n",
      "Minibatch loss at step 0: 1994.226929\n",
      "Minibatch accuracy: 7.0%\n",
      "Validation accuracy: 38.2%\n",
      "Minibatch loss at step 500: 126.779457\n",
      "Minibatch accuracy: 82.8%\n",
      "Validation accuracy: 82.3%\n",
      "Minibatch loss at step 1000: 10.902067\n",
      "Minibatch accuracy: 87.5%\n",
      "Validation accuracy: 86.3%\n",
      "Minibatch loss at step 1500: 1.527885\n",
      "Minibatch accuracy: 83.6%\n",
      "Validation accuracy: 85.2%\n",
      "Minibatch loss at step 2000: 0.745085\n",
      "Minibatch accuracy: 85.9%\n",
      "Validation accuracy: 85.9%\n",
      "Minibatch loss at step 2500: 0.592083\n",
      "Minibatch accuracy: 87.5%\n",
      "Validation accuracy: 85.7%\n",
      "Minibatch loss at step 3000: 0.496000\n",
      "Minibatch accuracy: 88.3%\n",
      "Validation accuracy: 85.0%\n",
      "Test accuracy: 92.7%\n"
     ]
    }
   ],
   "source": [
    "num_steps = 3001\n",
    "\n",
    "with tf.Session(graph=graph) as session:\n",
    "  tf.initialize_all_variables().run()\n",
    "  print(\"Initialized\")\n",
    "  for step in range(num_steps):\n",
    "    # Pick an offset within the training data, which has been randomized.\n",
    "    # Note: we could use better randomization across epochs.\n",
    "    offset = (step * batch_size) % (train_labels.shape[0] - batch_size)\n",
    "    # Generate a minibatch.\n",
    "    batch_data = train_dataset[offset:(offset + batch_size), :]\n",
    "    batch_labels = train_labels[offset:(offset + batch_size), :]\n",
    "    # Prepare a dictionary telling the session where to feed the minibatch.\n",
    "    # The key of the dictionary is the placeholder node of the graph to be fed,\n",
    "    # and the value is the numpy array to feed to it.\n",
    "    feed_dict = {tf_train_dataset : batch_data, tf_train_labels : batch_labels}\n",
    "    _, l, predictions = session.run(\n",
    "      [optimizer, loss, train_prediction], feed_dict=feed_dict)\n",
    "    if (step % 500 == 0):\n",
    "      print(\"Minibatch loss at step %d: %f\" % (step, l))\n",
    "      print(\"Minibatch accuracy: %.1f%%\" % accuracy(predictions, batch_labels))\n",
    "      print(\"Validation accuracy: %.1f%%\" % accuracy(\n",
    "        valid_prediction.eval(), valid_labels))\n",
    "  print(\"Test accuracy: %.1f%%\" % accuracy(test_prediction.eval(), test_labels))"
   ]
  },
  {
   "cell_type": "markdown",
   "metadata": {
    "colab_type": "text",
    "id": "na8xX2yHZzNF"
   },
   "source": [
    "---\n",
    "Problem 2\n",
    "---------\n",
    "Let's demonstrate an extreme case of overfitting. Restrict your training data to just a few batches. What happens?\n",
    "\n",
    "---"
   ]
  },
  {
   "cell_type": "code",
   "execution_count": 18,
   "metadata": {
    "collapsed": true
   },
   "outputs": [],
   "source": [
    "batch_size = 128\n",
    "num_hidden_units = 1024\n",
    "regularization = 0.01\n",
    "\n",
    "graph = tf.Graph()\n",
    "with graph.as_default():\n",
    "\n",
    "  # Input data. For the training data, we use a placeholder that will be fed\n",
    "  # at run time with a training minibatch.\n",
    "  tf_train_dataset = tf.placeholder(tf.float32,\n",
    "                                    shape=(batch_size, image_size * image_size))\n",
    "  tf_train_labels = tf.placeholder(tf.float32, shape=(batch_size, num_labels))\n",
    "  tf_valid_dataset = tf.constant(valid_dataset)\n",
    "  tf_test_dataset = tf.constant(test_dataset)\n",
    "  \n",
    "  # Variables of input layer\n",
    "  weights_input = tf.Variable(\n",
    "    tf.truncated_normal([image_size * image_size, num_hidden_units]))\n",
    "  biases_input = tf.Variable(tf.zeros([num_hidden_units]))\n",
    "    \n",
    "  # Variables.\n",
    "  weights_hidden = tf.Variable(\n",
    "    tf.truncated_normal([num_hidden_units, num_labels]))\n",
    "  biases_hidden = tf.Variable(tf.zeros([num_labels]))\n",
    "  \n",
    "  # Training computation.\n",
    "  relus = tf.nn.relu(tf.matmul(tf_train_dataset, weights_input) + biases_input)\n",
    "  logits_hidden = tf.matmul(relus, weights_hidden) + biases_hidden\n",
    "  loss = tf.reduce_mean(\n",
    "    tf.nn.softmax_cross_entropy_with_logits(logits_hidden, tf_train_labels)) +\\\n",
    "    0.5*regularization*(tf.nn.l2_loss(weights_input) + tf.nn.l2_loss(weights_hidden))\n",
    "  \n",
    "  # Optimizer.\n",
    "  optimizer = tf.train.GradientDescentOptimizer(0.5).minimize(loss)\n",
    "  \n",
    "  # Predictions for the training, validation, and test data.\n",
    "  train_prediction = tf.nn.softmax(logits_hidden)\n",
    "  valid_relus = tf.nn.relu(tf.matmul(tf_valid_dataset, weights_input) + biases_input)\n",
    "  valid_prediction = tf.nn.softmax(\n",
    "    tf.matmul(valid_relus, weights_hidden) + biases_hidden)\n",
    "  test_relus = tf.nn.relu(tf.matmul(tf_test_dataset, weights_input) + biases_input)\n",
    "  test_prediction = tf.nn.softmax(\n",
    "    tf.matmul(test_relus, weights_hidden) + biases_hidden)"
   ]
  },
  {
   "cell_type": "code",
   "execution_count": 19,
   "metadata": {
    "collapsed": false
   },
   "outputs": [
    {
     "name": "stdout",
     "output_type": "stream",
     "text": [
      "Initialized\n",
      "Minibatch loss at step 0: 1865.283447\n",
      "Minibatch accuracy: 12.5%\n",
      "Validation accuracy: 27.0%\n",
      "Minibatch loss at step 500: 128.414093\n",
      "Minibatch accuracy: 99.2%\n",
      "Validation accuracy: 76.9%\n",
      "Minibatch loss at step 1000: 10.586967\n",
      "Minibatch accuracy: 99.2%\n",
      "Validation accuracy: 79.4%\n",
      "Minibatch loss at step 1500: 1.037373\n",
      "Minibatch accuracy: 100.0%\n",
      "Validation accuracy: 79.6%\n",
      "Minibatch loss at step 2000: 0.250749\n",
      "Minibatch accuracy: 100.0%\n",
      "Validation accuracy: 79.3%\n",
      "Minibatch loss at step 2500: 0.184268\n",
      "Minibatch accuracy: 100.0%\n",
      "Validation accuracy: 79.6%\n",
      "Minibatch loss at step 3000: 0.177927\n",
      "Minibatch accuracy: 100.0%\n",
      "Validation accuracy: 79.5%\n",
      "Test accuracy: 87.8%\n"
     ]
    }
   ],
   "source": [
    "num_steps = 3001\n",
    "# Restricting train size\n",
    "ix_small = range(int(batch_size*5.5))\n",
    "train_dataset_small = train_dataset[ix_small,:]\n",
    "train_labels_small = train_labels[ix_small,:]\n",
    "\n",
    "with tf.Session(graph=graph) as session:\n",
    "  tf.initialize_all_variables().run()\n",
    "  print(\"Initialized\")\n",
    "  for step in range(num_steps):\n",
    "    # Pick an offset within the training data, which has been randomized.\n",
    "    # Note: we could use better randomization across epochs.\n",
    "    offset = (step * batch_size) % (train_labels_small.shape[0] - batch_size)\n",
    "    # Generate a minibatch.\n",
    "    batch_data = train_dataset_small[offset:(offset + batch_size), :]\n",
    "    batch_labels = train_labels_small[offset:(offset + batch_size), :]\n",
    "    # Prepare a dictionary telling the session where to feed the minibatch.\n",
    "    # The key of the dictionary is the placeholder node of the graph to be fed,\n",
    "    # and the value is the numpy array to feed to it.\n",
    "    feed_dict = {tf_train_dataset : batch_data, tf_train_labels : batch_labels}\n",
    "    _, l, predictions = session.run(\n",
    "      [optimizer, loss, train_prediction], feed_dict=feed_dict)\n",
    "    if (step % 500 == 0):\n",
    "      print(\"Minibatch loss at step %d: %f\" % (step, l))\n",
    "      print(\"Minibatch accuracy: %.1f%%\" % accuracy(predictions, batch_labels))\n",
    "      print(\"Validation accuracy: %.1f%%\" % accuracy(\n",
    "        valid_prediction.eval(), valid_labels))\n",
    "  print(\"Test accuracy: %.1f%%\" % accuracy(test_prediction.eval(), test_labels))"
   ]
  },
  {
   "cell_type": "code",
   "execution_count": 22,
   "metadata": {
    "collapsed": false
   },
   "outputs": [],
   "source": []
  },
  {
   "cell_type": "markdown",
   "metadata": {
    "colab_type": "text",
    "id": "ww3SCBUdlkRc"
   },
   "source": [
    "---\n",
    "Problem 3\n",
    "---------\n",
    "Introduce Dropout on the hidden layer of the neural network. Remember: Dropout should only be introduced during training, not evaluation, otherwise your evaluation results would be stochastic as well. TensorFlow provides `nn.dropout()` for that, but you have to make sure it's only inserted during training.\n",
    "\n",
    "What happens to our extreme overfitting case?\n",
    "\n",
    "---"
   ]
  },
  {
   "cell_type": "markdown",
   "metadata": {},
   "source": [
    "##### Regularization and dropout with whole training set"
   ]
  },
  {
   "cell_type": "code",
   "execution_count": 26,
   "metadata": {
    "collapsed": false
   },
   "outputs": [],
   "source": [
    "batch_size = 128\n",
    "num_hidden_units = 1024\n",
    "regularization = 0.01\n",
    "\n",
    "graph = tf.Graph()\n",
    "with graph.as_default():\n",
    "\n",
    "  # Input data. For the training data, we use a placeholder that will be fed\n",
    "  # at run time with a training minibatch.\n",
    "  tf_train_dataset = tf.placeholder(tf.float32,\n",
    "                                    shape=(batch_size, image_size * image_size))\n",
    "  tf_train_labels = tf.placeholder(tf.float32, shape=(batch_size, num_labels))\n",
    "  tf_valid_dataset = tf.constant(valid_dataset)\n",
    "  tf_test_dataset = tf.constant(test_dataset)\n",
    "  \n",
    "  # Variables of input layer\n",
    "  weights_input = tf.Variable(\n",
    "    tf.truncated_normal([image_size * image_size, num_hidden_units]))\n",
    "  biases_input = tf.Variable(tf.zeros([num_hidden_units]))\n",
    "    \n",
    "  # Variables.\n",
    "  weights_hidden = tf.Variable(\n",
    "    tf.truncated_normal([num_hidden_units, num_labels]))\n",
    "  biases_hidden = tf.Variable(tf.zeros([num_labels]))\n",
    "  \n",
    "  # Training computation.\n",
    "  relus = tf.nn.relu(tf.matmul(tf_train_dataset, weights_input) + biases_input)\n",
    "  logits_hidden = tf.nn.dropout(tf.matmul(relus, weights_hidden) + biases_hidden, keep_prob = 0.5) # Added dropout\n",
    "  loss = tf.reduce_mean(\n",
    "    tf.nn.softmax_cross_entropy_with_logits(logits_hidden, tf_train_labels)) +\\\n",
    "    0.5*regularization*(tf.nn.l2_loss(weights_input) + tf.nn.l2_loss(weights_hidden))\n",
    "  \n",
    "  # Optimizer.\n",
    "  optimizer = tf.train.GradientDescentOptimizer(0.5).minimize(loss)\n",
    "  \n",
    "  # Predictions for the training, validation, and test data.\n",
    "  train_prediction = tf.nn.softmax(logits_hidden)\n",
    "  valid_relus = tf.nn.relu(tf.matmul(tf_valid_dataset, weights_input) + biases_input)\n",
    "  valid_prediction = tf.nn.softmax(\n",
    "    tf.matmul(valid_relus, weights_hidden) + biases_hidden)\n",
    "  test_relus = tf.nn.relu(tf.matmul(tf_test_dataset, weights_input) + biases_input)\n",
    "  test_prediction = tf.nn.softmax(\n",
    "    tf.matmul(test_relus, weights_hidden) + biases_hidden)"
   ]
  },
  {
   "cell_type": "code",
   "execution_count": 27,
   "metadata": {
    "collapsed": false
   },
   "outputs": [
    {
     "name": "stdout",
     "output_type": "stream",
     "text": [
      "Initialized\n",
      "Minibatch loss at step 0: 2068.532471\n",
      "Minibatch accuracy: 12.5%\n",
      "Validation accuracy: 18.0%\n",
      "Minibatch loss at step 500: 127.644135\n",
      "Minibatch accuracy: 52.3%\n",
      "Validation accuracy: 80.4%\n",
      "Minibatch loss at step 1000: 11.601990\n",
      "Minibatch accuracy: 53.9%\n",
      "Validation accuracy: 84.0%\n",
      "Minibatch loss at step 1500: 2.138979\n",
      "Minibatch accuracy: 55.5%\n",
      "Validation accuracy: 84.4%\n",
      "Minibatch loss at step 2000: 1.327963\n",
      "Minibatch accuracy: 54.7%\n",
      "Validation accuracy: 83.4%\n",
      "Minibatch loss at step 2500: 1.303870\n",
      "Minibatch accuracy: 53.1%\n",
      "Validation accuracy: 84.2%\n",
      "Minibatch loss at step 3000: 1.165913\n",
      "Minibatch accuracy: 53.9%\n",
      "Validation accuracy: 83.6%\n",
      "Test accuracy: 91.6%\n"
     ]
    }
   ],
   "source": [
    "num_steps = 3001\n",
    "\n",
    "with tf.Session(graph=graph) as session:\n",
    "  tf.initialize_all_variables().run()\n",
    "  print(\"Initialized\")\n",
    "  for step in range(num_steps):\n",
    "    # Pick an offset within the training data, which has been randomized.\n",
    "    # Note: we could use better randomization across epochs.\n",
    "    offset = (step * batch_size) % (train_labels.shape[0] - batch_size)\n",
    "    # Generate a minibatch.\n",
    "    batch_data = train_dataset[offset:(offset + batch_size), :]\n",
    "    batch_labels = train_labels[offset:(offset + batch_size), :]\n",
    "    # Prepare a dictionary telling the session where to feed the minibatch.\n",
    "    # The key of the dictionary is the placeholder node of the graph to be fed,\n",
    "    # and the value is the numpy array to feed to it.\n",
    "    feed_dict = {tf_train_dataset : batch_data, tf_train_labels : batch_labels}\n",
    "    _, l, predictions = session.run(\n",
    "      [optimizer, loss, train_prediction], feed_dict=feed_dict)\n",
    "    if (step % 500 == 0):\n",
    "      print(\"Minibatch loss at step %d: %f\" % (step, l))\n",
    "      print(\"Minibatch accuracy: %.1f%%\" % accuracy(predictions, batch_labels))\n",
    "      print(\"Validation accuracy: %.1f%%\" % accuracy(\n",
    "        valid_prediction.eval(), valid_labels))\n",
    "  print(\"Test accuracy: %.1f%%\" % accuracy(test_prediction.eval(), test_labels))"
   ]
  },
  {
   "cell_type": "markdown",
   "metadata": {},
   "source": [
    "##### Regularization and dropout with small training set to show dropout properties"
   ]
  },
  {
   "cell_type": "code",
   "execution_count": 26,
   "metadata": {
    "collapsed": false
   },
   "outputs": [],
   "source": [
    "batch_size = 128\n",
    "num_hidden_units = 1024\n",
    "regularization = 0.01\n",
    "\n",
    "graph = tf.Graph()\n",
    "with graph.as_default():\n",
    "\n",
    "  # Input data. For the training data, we use a placeholder that will be fed\n",
    "  # at run time with a training minibatch.\n",
    "  tf_train_dataset = tf.placeholder(tf.float32,\n",
    "                                    shape=(batch_size, image_size * image_size))\n",
    "  tf_train_labels = tf.placeholder(tf.float32, shape=(batch_size, num_labels))\n",
    "  tf_valid_dataset = tf.constant(valid_dataset)\n",
    "  tf_test_dataset = tf.constant(test_dataset)\n",
    "  \n",
    "  # Variables of input layer\n",
    "  weights_input = tf.Variable(\n",
    "    tf.truncated_normal([image_size * image_size, num_hidden_units]))\n",
    "  biases_input = tf.Variable(tf.zeros([num_hidden_units]))\n",
    "    \n",
    "  # Variables.\n",
    "  weights_hidden = tf.Variable(\n",
    "    tf.truncated_normal([num_hidden_units, num_labels]))\n",
    "  biases_hidden = tf.Variable(tf.zeros([num_labels]))\n",
    "  \n",
    "  # Training computation.\n",
    "  relus = tf.nn.relu(tf.matmul(tf_train_dataset, weights_input) + biases_input)\n",
    "  logits_hidden = tf.nn.dropout(tf.matmul(relus, weights_hidden) + biases_hidden, keep_prob = 0.5) # Added dropout\n",
    "  loss = tf.reduce_mean(\n",
    "    tf.nn.softmax_cross_entropy_with_logits(logits_hidden, tf_train_labels)) +\\\n",
    "    0.5*regularization*(tf.nn.l2_loss(weights_input) + tf.nn.l2_loss(weights_hidden))\n",
    "  \n",
    "  # Optimizer.\n",
    "  optimizer = tf.train.GradientDescentOptimizer(0.5).minimize(loss)\n",
    "  \n",
    "  # Predictions for the training, validation, and test data.\n",
    "  train_prediction = tf.nn.softmax(logits_hidden)\n",
    "  valid_relus = tf.nn.relu(tf.matmul(tf_valid_dataset, weights_input) + biases_input)\n",
    "  valid_prediction = tf.nn.softmax(\n",
    "    tf.matmul(valid_relus, weights_hidden) + biases_hidden)\n",
    "  test_relus = tf.nn.relu(tf.matmul(tf_test_dataset, weights_input) + biases_input)\n",
    "  test_prediction = tf.nn.softmax(\n",
    "    tf.matmul(test_relus, weights_hidden) + biases_hidden)"
   ]
  },
  {
   "cell_type": "code",
   "execution_count": 28,
   "metadata": {
    "collapsed": false
   },
   "outputs": [
    {
     "name": "stdout",
     "output_type": "stream",
     "text": [
      "Initialized\n",
      "Minibatch loss at step 0: 2137.075684\n",
      "Minibatch accuracy: 3.9%\n",
      "Validation accuracy: 25.3%\n",
      "Minibatch loss at step 500: 130.069702\n",
      "Minibatch accuracy: 60.9%\n",
      "Validation accuracy: 77.5%\n",
      "Minibatch loss at step 1000: 11.461935\n",
      "Minibatch accuracy: 57.8%\n",
      "Validation accuracy: 79.1%\n",
      "Minibatch loss at step 1500: 1.922180\n",
      "Minibatch accuracy: 53.9%\n",
      "Validation accuracy: 79.9%\n",
      "Minibatch loss at step 2000: 1.079390\n",
      "Minibatch accuracy: 59.4%\n",
      "Validation accuracy: 79.8%\n",
      "Minibatch loss at step 2500: 1.036792\n",
      "Minibatch accuracy: 59.4%\n",
      "Validation accuracy: 79.8%\n",
      "Minibatch loss at step 3000: 1.093117\n",
      "Minibatch accuracy: 53.9%\n",
      "Validation accuracy: 80.0%\n",
      "Test accuracy: 88.2%\n"
     ]
    }
   ],
   "source": [
    "num_steps = 3001\n",
    "# Restricting train size\n",
    "ix_small = range(int(batch_size*5.5))\n",
    "train_dataset_small = train_dataset[ix_small,:]\n",
    "train_labels_small = train_labels[ix_small,:]\n",
    "\n",
    "with tf.Session(graph=graph) as session:\n",
    "  tf.initialize_all_variables().run()\n",
    "  print(\"Initialized\")\n",
    "  for step in range(num_steps):\n",
    "    # Pick an offset within the training data, which has been randomized.\n",
    "    # Note: we could use better randomization across epochs.\n",
    "    offset = (step * batch_size) % (train_labels_small.shape[0] - batch_size)\n",
    "    # Generate a minibatch.\n",
    "    batch_data = train_dataset_small[offset:(offset + batch_size), :]\n",
    "    batch_labels = train_labels_small[offset:(offset + batch_size), :]\n",
    "    # Prepare a dictionary telling the session where to feed the minibatch.\n",
    "    # The key of the dictionary is the placeholder node of the graph to be fed,\n",
    "    # and the value is the numpy array to feed to it.\n",
    "    feed_dict = {tf_train_dataset : batch_data, tf_train_labels : batch_labels}\n",
    "    _, l, predictions = session.run(\n",
    "      [optimizer, loss, train_prediction], feed_dict=feed_dict)\n",
    "    if (step % 500 == 0):\n",
    "      print(\"Minibatch loss at step %d: %f\" % (step, l))\n",
    "      print(\"Minibatch accuracy: %.1f%%\" % accuracy(predictions, batch_labels))\n",
    "      print(\"Validation accuracy: %.1f%%\" % accuracy(\n",
    "        valid_prediction.eval(), valid_labels))\n",
    "  print(\"Test accuracy: %.1f%%\" % accuracy(test_prediction.eval(), test_labels))"
   ]
  },
  {
   "cell_type": "markdown",
   "metadata": {},
   "source": [
    "##### Conclusion\n",
    "\n",
    "With dropout there is not a huge amount of overfitting even if the training set is small."
   ]
  },
  {
   "cell_type": "markdown",
   "metadata": {
    "colab_type": "text",
    "id": "-b1hTz3VWZjw"
   },
   "source": [
    "---\n",
    "Problem 4\n",
    "---------\n",
    "\n",
    "Try to get the best performance you can using a multi-layer model! The best reported test accuracy using a deep network is [97.1%](http://yaroslavvb.blogspot.com/2011/09/notmnist-dataset.html?showComment=1391023266211#c8758720086795711595).\n",
    "\n",
    "One avenue you can explore is to add multiple layers.\n",
    "\n",
    "Another one is to use learning rate decay:\n",
    "\n",
    "    global_step = tf.Variable(0)  # count the number of steps taken.\n",
    "    learning_rate = tf.train.exponential_decay(0.5, step, ...)\n",
    "    optimizer = tf.train.GradientDescentOptimizer(learning_rate).minimize(loss, global_step=global_step)\n",
    " \n",
    " ---\n"
   ]
  },
  {
   "cell_type": "code",
   "execution_count": 89,
   "metadata": {
    "collapsed": false
   },
   "outputs": [],
   "source": [
    "batch_size = 512\n",
    "num_hidden_units_L1 = 400\n",
    "num_hidden_units_L2 = 400\n",
    "regularization = 0.04\n",
    "\n",
    "graph = tf.Graph()\n",
    "with graph.as_default():\n",
    "\n",
    "    # Input data. For the training data, we use a placeholder that will be fed\n",
    "    # at run time with a training minibatch.\n",
    "    tf_train_dataset = tf.placeholder(tf.float32,\n",
    "                                    shape=(batch_size, image_size * image_size))\n",
    "    tf_train_labels = tf.placeholder(tf.float32, shape=(batch_size, num_labels))\n",
    "    tf_valid_dataset = tf.constant(valid_dataset)\n",
    "    tf_test_dataset = tf.constant(test_dataset)\n",
    "\n",
    "    # count the number of steps taken.\n",
    "    global_step = tf.Variable(0)\n",
    "    \n",
    "    # Variables of input layer\n",
    "    weights_input = tf.Variable(\n",
    "        tf.truncated_normal([image_size * image_size, num_hidden_units_L1]))\n",
    "    biases_input = tf.Variable(tf.zeros([num_hidden_units_L1]))\n",
    "\n",
    "    # Variables of HL1\n",
    "    weights_hidden_L1 = tf.Variable(\n",
    "        tf.truncated_normal([num_hidden_units_L1, num_hidden_units_L2]))\n",
    "    biases_hidden_L1 = tf.Variable(tf.zeros([num_hidden_units_L2]))\n",
    "\n",
    "    # Variables of HL2\n",
    "    weights_hidden_L2 = tf.Variable(\n",
    "        tf.truncated_normal([num_hidden_units_L2, num_labels]))\n",
    "    biases_hidden_L2 = tf.Variable(tf.zeros([num_labels]))\n",
    "\n",
    "    # Training computation.\n",
    "    relus_L1 = tf.nn.relu(tf.matmul(tf_train_dataset, weights_input) + biases_input)\n",
    "    relus_L2 = tf.nn.relu(tf.matmul(relus_L1, weights_hidden_L1) + biases_hidden_L1)\n",
    "    #logits_output = tf.nn.dropout(tf.matmul(relus_L2, weights_hidden_L2) + biases_hidden_L2, keep_prob = 0.5)\n",
    "    logits_output = tf.matmul(relus_L2, weights_hidden_L2) + biases_hidden_L2\n",
    "\n",
    "    loss = tf.reduce_mean(\n",
    "        tf.nn.softmax_cross_entropy_with_logits(logits_output, tf_train_labels)) +\\\n",
    "        0.5*regularization*(tf.nn.l2_loss(weights_input) + tf.nn.l2_loss(weights_hidden_L1) + tf.nn.l2_loss(weights_hidden_L2))\n",
    "\n",
    "    # Optimizer.\n",
    "    \n",
    "    #learning_rate = tf.train.exponential_decay(0.01, global_step, 10, np.e)\n",
    "    #optimizer = tf.train.GradientDescentOptimizer(learning_rate).minimize(loss, global_step=global_step)\n",
    "    optimizer = tf.train.GradientDescentOptimizer(0.05).minimize(loss)\n",
    "\n",
    "    # Predictions for the training, validation, and test data.\n",
    "    train_prediction = tf.nn.softmax(logits_output)\n",
    "    \n",
    "    valid_relus_L1 = tf.nn.relu(tf.matmul(tf_valid_dataset, weights_input) + biases_input)\n",
    "    valid_relus_L2 = tf.nn.relu(tf.matmul(valid_relus_L1, weights_hidden_L1) + biases_hidden_L1)\n",
    "    valid_prediction = tf.nn.softmax(tf.matmul(valid_relus_L2, weights_hidden_L2) + biases_hidden_L2)\n",
    "    \n",
    "    test_relus_L1 = tf.nn.relu(tf.matmul(tf_test_dataset, weights_input) + biases_input)\n",
    "    test_relus_L2 = tf.nn.relu(tf.matmul(test_relus_L1, weights_hidden_L1) + biases_hidden_L1)\n",
    "    test_prediction = tf.nn.softmax(tf.matmul(test_relus_L2, weights_hidden_L2) + biases_hidden_L2)"
   ]
  },
  {
   "cell_type": "code",
   "execution_count": 91,
   "metadata": {
    "collapsed": false
   },
   "outputs": [
    {
     "name": "stdout",
     "output_type": "stream",
     "text": [
      "Initialized\n",
      "Step: 0\n",
      "Minibatch loss: 6527.588379\n",
      "Minibatch accuracy: 7.0%\n",
      "Validation accuracy: 15.8%\n",
      "Step: 100\n",
      "Minibatch loss: 3806.230469\n",
      "Minibatch accuracy: 40.2%\n",
      "Validation accuracy: 37.6%\n",
      "Step: 200\n",
      "Minibatch loss: 2762.354980\n",
      "Minibatch accuracy: 45.1%\n",
      "Validation accuracy: 42.6%\n",
      "Step: 300\n",
      "Minibatch loss: 2005.235229\n",
      "Minibatch accuracy: 54.9%\n",
      "Validation accuracy: 48.8%\n",
      "Step: 400\n",
      "Minibatch loss: 1455.803955\n",
      "Minibatch accuracy: 59.0%\n",
      "Validation accuracy: 55.3%\n",
      "Step: 500\n",
      "Minibatch loss: 1057.000854\n",
      "Minibatch accuracy: 66.8%\n",
      "Validation accuracy: 63.2%\n",
      "Step: 600\n",
      "Minibatch loss: 767.430359\n",
      "Minibatch accuracy: 70.1%\n",
      "Validation accuracy: 67.9%\n",
      "Step: 700\n",
      "Minibatch loss: 557.353638\n",
      "Minibatch accuracy: 69.9%\n",
      "Validation accuracy: 72.3%\n",
      "Step: 800\n",
      "Minibatch loss: 404.786835\n",
      "Minibatch accuracy: 74.8%\n",
      "Validation accuracy: 74.5%\n",
      "Step: 900\n",
      "Minibatch loss: 294.046295\n",
      "Minibatch accuracy: 78.5%\n",
      "Validation accuracy: 76.3%\n",
      "Step: 1000\n",
      "Minibatch loss: 213.683075\n",
      "Minibatch accuracy: 79.9%\n",
      "Validation accuracy: 77.2%\n",
      "Step: 1100\n",
      "Minibatch loss: 155.433197\n",
      "Minibatch accuracy: 78.3%\n",
      "Validation accuracy: 78.8%\n",
      "Step: 1200\n",
      "Minibatch loss: 112.981544\n",
      "Minibatch accuracy: 82.0%\n",
      "Validation accuracy: 79.7%\n",
      "Step: 1300\n",
      "Minibatch loss: 82.270615\n",
      "Minibatch accuracy: 79.9%\n",
      "Validation accuracy: 80.6%\n",
      "Step: 1400\n",
      "Minibatch loss: 59.894337\n",
      "Minibatch accuracy: 84.6%\n",
      "Validation accuracy: 81.1%\n",
      "Step: 1500\n",
      "Minibatch loss: 43.731342\n",
      "Minibatch accuracy: 82.4%\n",
      "Validation accuracy: 81.8%\n",
      "Step: 1600\n",
      "Minibatch loss: 32.064842\n",
      "Minibatch accuracy: 80.1%\n",
      "Validation accuracy: 82.2%\n",
      "Step: 1700\n",
      "Minibatch loss: 23.457521\n",
      "Minibatch accuracy: 84.4%\n",
      "Validation accuracy: 82.6%\n",
      "Step: 1800\n",
      "Minibatch loss: 17.310366\n",
      "Minibatch accuracy: 83.0%\n",
      "Validation accuracy: 83.0%\n",
      "Step: 1900\n",
      "Minibatch loss: 12.786215\n",
      "Minibatch accuracy: 83.6%\n",
      "Validation accuracy: 83.1%\n",
      "Step: 2000\n",
      "Minibatch loss: 9.516769\n",
      "Minibatch accuracy: 83.8%\n",
      "Validation accuracy: 83.2%\n",
      "Step: 2100\n",
      "Minibatch loss: 7.145561\n",
      "Minibatch accuracy: 84.8%\n",
      "Validation accuracy: 83.2%\n",
      "Step: 2200\n",
      "Minibatch loss: 5.503083\n",
      "Minibatch accuracy: 82.6%\n",
      "Validation accuracy: 83.2%\n",
      "Step: 2300\n",
      "Minibatch loss: 4.236142\n",
      "Minibatch accuracy: 82.4%\n",
      "Validation accuracy: 83.7%\n",
      "Step: 2400\n",
      "Minibatch loss: 3.303499\n",
      "Minibatch accuracy: 84.0%\n",
      "Validation accuracy: 83.6%\n",
      "Step: 2500\n",
      "Minibatch loss: 2.622275\n",
      "Minibatch accuracy: 84.6%\n",
      "Validation accuracy: 83.5%\n",
      "Step: 2600\n",
      "Minibatch loss: 2.111928\n",
      "Minibatch accuracy: 85.7%\n",
      "Validation accuracy: 83.5%\n",
      "Step: 2700\n",
      "Minibatch loss: 1.906898\n",
      "Minibatch accuracy: 80.3%\n",
      "Validation accuracy: 83.8%\n",
      "Step: 2800\n",
      "Minibatch loss: 1.557937\n",
      "Minibatch accuracy: 82.6%\n",
      "Validation accuracy: 83.7%\n",
      "Step: 2900\n",
      "Minibatch loss: 1.311733\n",
      "Minibatch accuracy: 87.1%\n",
      "Validation accuracy: 83.8%\n",
      "Step: 3000\n",
      "Minibatch loss: 1.183681\n",
      "Minibatch accuracy: 85.7%\n",
      "Validation accuracy: 83.8%\n",
      "Step: 3100\n",
      "Minibatch loss: 1.172144\n",
      "Minibatch accuracy: 82.2%\n",
      "Validation accuracy: 83.6%\n",
      "Step: 3200\n",
      "Minibatch loss: 1.092805\n",
      "Minibatch accuracy: 82.4%\n",
      "Validation accuracy: 83.6%\n",
      "Step: 3300\n",
      "Minibatch loss: 1.100049\n",
      "Minibatch accuracy: 80.7%\n",
      "Validation accuracy: 83.9%\n",
      "Step: 3400\n",
      "Minibatch loss: 0.973272\n",
      "Minibatch accuracy: 85.7%\n",
      "Validation accuracy: 83.8%\n",
      "Step: 3500\n",
      "Minibatch loss: 0.981959\n",
      "Minibatch accuracy: 81.2%\n",
      "Validation accuracy: 83.7%\n",
      "Step: 3600\n",
      "Minibatch loss: 0.942506\n",
      "Minibatch accuracy: 84.2%\n",
      "Validation accuracy: 83.5%\n",
      "Step: 3700\n",
      "Minibatch loss: 0.958982\n",
      "Minibatch accuracy: 84.8%\n",
      "Validation accuracy: 84.0%\n",
      "Step: 3800\n",
      "Minibatch loss: 0.868279\n",
      "Minibatch accuracy: 85.5%\n",
      "Validation accuracy: 83.8%\n",
      "Step: 3900\n",
      "Minibatch loss: 0.892452\n",
      "Minibatch accuracy: 85.0%\n",
      "Validation accuracy: 83.6%\n",
      "Step: 4000\n",
      "Minibatch loss: 0.936723\n",
      "Minibatch accuracy: 81.6%\n",
      "Validation accuracy: 83.6%\n",
      "Step: 4100\n",
      "Minibatch loss: 0.892540\n",
      "Minibatch accuracy: 85.2%\n",
      "Validation accuracy: 83.9%\n",
      "Step: 4200\n",
      "Minibatch loss: 0.925453\n",
      "Minibatch accuracy: 83.2%\n",
      "Validation accuracy: 83.9%\n",
      "Step: 4300\n",
      "Minibatch loss: 0.846822\n",
      "Minibatch accuracy: 86.7%\n",
      "Validation accuracy: 83.8%\n",
      "Step: 4400\n",
      "Minibatch loss: 0.914277\n",
      "Minibatch accuracy: 82.6%\n",
      "Validation accuracy: 83.6%\n",
      "Step: 4500\n",
      "Minibatch loss: 0.899336\n",
      "Minibatch accuracy: 84.8%\n",
      "Validation accuracy: 83.8%\n",
      "Step: 4600\n",
      "Minibatch loss: 0.874213\n",
      "Minibatch accuracy: 85.5%\n",
      "Validation accuracy: 83.9%\n",
      "Step: 4700\n",
      "Minibatch loss: 0.889026\n",
      "Minibatch accuracy: 84.4%\n",
      "Validation accuracy: 83.7%\n",
      "Step: 4800\n",
      "Minibatch loss: 0.861819\n",
      "Minibatch accuracy: 84.2%\n",
      "Validation accuracy: 83.8%\n",
      "Step: 4900\n",
      "Minibatch loss: 0.868104\n",
      "Minibatch accuracy: 84.2%\n",
      "Validation accuracy: 83.5%\n",
      "Step: 5000\n",
      "Minibatch loss: 0.825271\n",
      "Minibatch accuracy: 86.1%\n",
      "Validation accuracy: 84.0%\n",
      "Step: 5100\n",
      "Minibatch loss: 0.914218\n",
      "Minibatch accuracy: 84.0%\n",
      "Validation accuracy: 84.0%\n",
      "Step: 5200\n",
      "Minibatch loss: 0.897877\n",
      "Minibatch accuracy: 83.6%\n",
      "Validation accuracy: 83.9%\n",
      "Step: 5300\n",
      "Minibatch loss: 0.825142\n",
      "Minibatch accuracy: 86.7%\n",
      "Validation accuracy: 83.7%\n",
      "Step: 5400\n",
      "Minibatch loss: 0.869977\n",
      "Minibatch accuracy: 85.5%\n",
      "Validation accuracy: 83.8%\n",
      "Step: 5500\n",
      "Minibatch loss: 0.856550\n",
      "Minibatch accuracy: 84.6%\n",
      "Validation accuracy: 83.7%\n",
      "Step: 5600\n",
      "Minibatch loss: 0.943744\n",
      "Minibatch accuracy: 81.1%\n",
      "Validation accuracy: 83.6%\n",
      "Step: 5700\n",
      "Minibatch loss: 0.880183\n",
      "Minibatch accuracy: 84.2%\n",
      "Validation accuracy: 83.8%\n",
      "Step: 5800\n",
      "Minibatch loss: 0.840841\n",
      "Minibatch accuracy: 86.3%\n",
      "Validation accuracy: 83.8%\n",
      "Step: 5900\n",
      "Minibatch loss: 0.818359\n",
      "Minibatch accuracy: 85.2%\n",
      "Validation accuracy: 83.7%\n",
      "Step: 6000\n",
      "Minibatch loss: 0.866471\n",
      "Minibatch accuracy: 85.2%\n",
      "Validation accuracy: 83.8%\n",
      "Test accuracy: 90.9%\n"
     ]
    }
   ],
   "source": [
    "num_steps = 6001\n",
    "\n",
    "with tf.Session(graph=graph) as session:\n",
    "    tf.initialize_all_variables().run()\n",
    "    print(\"Initialized\")\n",
    "    for step in range(num_steps):\n",
    "        # Pick an offset within the training data, which has been randomized.\n",
    "        # Note: we could use better randomization across epochs.\n",
    "        offset = (step * batch_size) % (train_labels.shape[0] - batch_size)\n",
    "        # Generate a minibatch.\n",
    "        batch_data = train_dataset[offset:(offset + batch_size), :]\n",
    "        batch_labels = train_labels[offset:(offset + batch_size), :]\n",
    "        # Prepare a dictionary telling the session where to feed the minibatch.\n",
    "        # The key of the dictionary is the placeholder node of the graph to be fed,\n",
    "        # and the value is the numpy array to feed to it.\n",
    "        feed_dict = {tf_train_dataset : batch_data, tf_train_labels : batch_labels}\n",
    "        _, l, predictions = session.run([optimizer, loss, train_prediction], feed_dict=feed_dict)\n",
    "        if (step % 100 == 0):\n",
    "            print(\"Step: %d\" % (step))\n",
    "            print(\"Minibatch loss: %f\" % l)\n",
    "            print(\"Minibatch accuracy: %.1f%%\" % accuracy(predictions, batch_labels))\n",
    "            print(\"Validation accuracy: %.1f%%\" % accuracy(valid_prediction.eval(), valid_labels))\n",
    "    print(\"Test accuracy: %.1f%%\" % accuracy(test_prediction.eval(), test_labels))"
   ]
  },
  {
   "cell_type": "code",
   "execution_count": 65,
   "metadata": {
    "collapsed": true
   },
   "outputs": [],
   "source": [
    "tf.train.exponential_decay?"
   ]
  },
  {
   "cell_type": "code",
   "execution_count": null,
   "metadata": {
    "collapsed": true
   },
   "outputs": [],
   "source": []
  }
 ],
 "metadata": {
  "colab": {
   "default_view": {},
   "name": "3_regularization.ipynb",
   "provenance": [],
   "version": "0.3.2",
   "views": {}
  },
  "kernelspec": {
   "display_name": "Python 2",
   "language": "python",
   "name": "python2"
  },
  "language_info": {
   "codemirror_mode": {
    "name": "ipython",
    "version": 2
   },
   "file_extension": ".py",
   "mimetype": "text/x-python",
   "name": "python",
   "nbconvert_exporter": "python",
   "pygments_lexer": "ipython2",
   "version": "2.7.10"
  }
 },
 "nbformat": 4,
 "nbformat_minor": 0
}
